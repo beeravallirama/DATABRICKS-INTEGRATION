{
 "cells": [
  {
   "cell_type": "code",
   "execution_count": 0,
   "metadata": {
    "application/vnd.databricks.v1+cell": {
     "cellMetadata": {
      "byteLimit": 2048000,
      "rowLimit": 10000
     },
     "inputWidgets": {},
     "nuid": "de1042f4-dedd-4c73-adc9-8289ce920101",
     "showTitle": false,
     "tableResultSettingsMap": {},
     "title": ""
    }
   },
   "outputs": [],
   "source": [
    "#list of tuples\n",
    "\n",
    "from pyspark.sql import SparkSession\n",
    "\n",
    "spark = SparkSession.builder.appName(\"data_frame\").getOrCreate()\n",
    "\n",
    "data = [(1,\"Ravi\",30),(2,\"priya\",25)]\n",
    "columns = [\"id\",\"name\",\"age\"]\n",
    "\n",
    "df = spark.createDataFrame(data,columns)\n",
    "df.show()"
   ]
  },
  {
   "cell_type": "code",
   "execution_count": 0,
   "metadata": {
    "application/vnd.databricks.v1+cell": {
     "cellMetadata": {
      "byteLimit": 2048000,
      "rowLimit": 10000
     },
     "inputWidgets": {},
     "nuid": "ad738162-2931-4fd3-a147-b0024027a909",
     "showTitle": false,
     "tableResultSettingsMap": {},
     "title": ""
    }
   },
   "outputs": [],
   "source": [
    "#dictionarys\n",
    "\n",
    "from pyspark.sql import SparkSession\n",
    "\n",
    "spark = SparkSession.builder.appName(\"emp_dct\").getOrCreate()\n",
    "\n",
    "data_dict = [{\"id\":1,\"name\":\"Ravi\",\"age\":30},{\"id\":2,\"name\":\"priya\",\"age\":25}]\n",
    "\n",
    "df = spark.createDataFrame(data_dict)\n",
    "df.show()"
   ]
  },
  {
   "cell_type": "code",
   "execution_count": 0,
   "metadata": {
    "application/vnd.databricks.v1+cell": {
     "cellMetadata": {},
     "inputWidgets": {},
     "nuid": "bc4db4a7-2b62-4ab9-94cc-3001514ef66c",
     "showTitle": false,
     "tableResultSettingsMap": {},
     "title": ""
    }
   },
   "outputs": [],
   "source": [
    "#1.default options\n",
    "#  df = spark.read.csv(\"file_path.csv\")\n",
    "\n",
    " #2.with header and inferschema\n",
    "\n",
    "#  df =spark.read.option(\"header\", True).option(\"inferSchema\",True)\n",
    "\n",
    " #3.with explicit schema\n",
    "#  from pyspark.sql.types import StructType,StructField,StringType,IntegerType\n",
    "\n",
    "#  schema = StuctType([\n",
    "     StructField(\"id\", IntegerType()),\n",
    "     StructField(\"name\",StringType()),\n",
    "     StructField(\"age\",IntegerType())\n",
    " ])\n",
    "\n",
    "# df =spark.read.csv(\"path/file.csv\",header=True,schema =schema)"
   ]
  },
  {
   "cell_type": "code",
   "execution_count": 0,
   "metadata": {
    "application/vnd.databricks.v1+cell": {
     "cellMetadata": {
      "byteLimit": 2048000,
      "rowLimit": 10000
     },
     "inputWidgets": {},
     "nuid": "34c2daab-7876-4a40-a962-306958c4bcd5",
     "showTitle": false,
     "tableResultSettingsMap": {},
     "title": ""
    }
   },
   "outputs": [],
   "source": [
    "df.select(\"name\",\"age\").show()"
   ]
  },
  {
   "cell_type": "code",
   "execution_count": 0,
   "metadata": {
    "application/vnd.databricks.v1+cell": {
     "cellMetadata": {
      "byteLimit": 2048000,
      "rowLimit": 10000
     },
     "inputWidgets": {},
     "nuid": "49c82073-ba7e-4ff1-a2b6-208130291a2c",
     "showTitle": false,
     "tableResultSettingsMap": {},
     "title": ""
    }
   },
   "outputs": [],
   "source": [
    "df.select(\"name\",\"age\").show()"
   ]
  },
  {
   "cell_type": "code",
   "execution_count": 0,
   "metadata": {
    "application/vnd.databricks.v1+cell": {
     "cellMetadata": {
      "byteLimit": 2048000,
      "rowLimit": 10000
     },
     "inputWidgets": {},
     "nuid": "4b10ea0f-1b40-4c67-b2c0-32b2d25314c4",
     "showTitle": false,
     "tableResultSettingsMap": {},
     "title": ""
    }
   },
   "outputs": [],
   "source": [
    "df1_filter = df.filter(df.age == 30).show()\n",
    "\n",
    "df2_filter = df.filter(\"age > 28\").show()"
   ]
  },
  {
   "cell_type": "code",
   "execution_count": 0,
   "metadata": {
    "application/vnd.databricks.v1+cell": {
     "cellMetadata": {
      "byteLimit": 2048000,
      "rowLimit": 10000
     },
     "inputWidgets": {},
     "nuid": "9a85be5a-369a-4d06-9d91-4c4359337764",
     "showTitle": false,
     "tableResultSettingsMap": {},
     "title": ""
    }
   },
   "outputs": [],
   "source": [
    "from pyspark.sql import SparkSession\n",
    "\n",
    "spark = SparkSession.builder.appName(\"data_tranc\").getOrCreate()\n",
    "\n",
    "data = [(1,\"ravi\"),(2,\"sneha\"),(3,\"ravi\"),(4,\"kiran\"),(2,\"sneha\")]\n",
    "columns = [\"id\",\"name\"]\n",
    "\n",
    "df = spark.createDataFrame(data,columns)\n",
    "\n",
    "from pyspark.sql.functions import count\n",
    "\n",
    "df.groupBy(\"name\").count().filter(\"count > 1\").show()\n"
   ]
  },
  {
   "cell_type": "code",
   "execution_count": 0,
   "metadata": {
    "application/vnd.databricks.v1+cell": {
     "cellMetadata": {
      "byteLimit": 2048000,
      "rowLimit": 10000
     },
     "inputWidgets": {},
     "nuid": "27501a7c-e3d2-4efc-bc73-739aa2f2bbb3",
     "showTitle": false,
     "tableResultSettingsMap": {},
     "title": ""
    }
   },
   "outputs": [],
   "source": [
    "#remove duplicates\n",
    "from pyspark.sql import SparkSession\n",
    "\n",
    "spark = SparkSession.builder.appName(\"data_tranc\").getOrCreate()\n",
    "\n",
    "data = [(1,\"ravi\"),(2,\"sneha\"),(3,\"ravi\"),(4,\"kiran\"),(2,\"sneha\")]\n",
    "columns = [\"id\",\"name\"]\n",
    "\n",
    "df = spark.createDataFrame(data,columns)\n",
    "\n",
    "df.dropDuplicates([\"name\"]).show()\n"
   ]
  },
  {
   "cell_type": "code",
   "execution_count": 0,
   "metadata": {
    "application/vnd.databricks.v1+cell": {
     "cellMetadata": {
      "byteLimit": 2048000,
      "rowLimit": 10000
     },
     "inputWidgets": {},
     "nuid": "3d55fc9a-43cb-487f-aa29-ae8f66cf7d75",
     "showTitle": false,
     "tableResultSettingsMap": {},
     "title": ""
    }
   },
   "outputs": [],
   "source": [
    "from pyspark.sql import SparkSession\n",
    "from pyspark.sql.window import Window\n",
    "\n",
    "from pyspark.sql.functions import dense_rank, desc\n",
    "\n",
    "data = [(\"Ravi\",50000),(\"priya\",70000),(\"karan\",60000),(\"snash\",80000)]\n",
    "columns = [\"name\",\"salary\"]\n",
    "df =spark.createDataFrame(data,columns)\n",
    "\n",
    "window = Window.orderBy(desc(\"salary\"))\n",
    "df_ranked= df.withColumn(\"rank\",dense_rank().over(window)).filter(\"rank = 2\")\n",
    "df_ranked.show()\n",
    "\n",
    "\n"
   ]
  },
  {
   "cell_type": "code",
   "execution_count": 0,
   "metadata": {
    "application/vnd.databricks.v1+cell": {
     "cellMetadata": {
      "byteLimit": 2048000,
      "rowLimit": 10000
     },
     "inputWidgets": {},
     "nuid": "07554135-93d6-46c3-a415-b7051d1a3424",
     "showTitle": false,
     "tableResultSettingsMap": {},
     "title": ""
    }
   },
   "outputs": [],
   "source": [
    "from pyspark.sql import SparkSession\n",
    "from pyspark.sql.window import Window\n",
    "\n",
    "data = [(\"ravi\",\"HR\",50000),(\"priya\", \"IT\",70000),(\"karan\",\"HR\",60000),(\"snaha\",\"IT\",80000)]\n",
    "\n",
    "columns =[\"name\",\"dept\",\"salary\"]\n",
    "\n",
    "df = spark.createDataFrame(data,columns)\n",
    "window = Window.partitionBy(\"dept\").orderBy(desc(\"salary\"))\n",
    "\n",
    "second_df = df.withColumn(\"d_rank\",dense_rank().over(window)).filter(\"d_rank =2\").show()"
   ]
  },
  {
   "cell_type": "code",
   "execution_count": 0,
   "metadata": {
    "application/vnd.databricks.v1+cell": {
     "cellMetadata": {
      "byteLimit": 2048000,
      "rowLimit": 10000
     },
     "inputWidgets": {},
     "nuid": "6bcecd8c-7b21-4862-91d3-cd233c37a882",
     "showTitle": false,
     "tableResultSettingsMap": {},
     "title": ""
    }
   },
   "outputs": [],
   "source": [
    "from pyspark.sql.functions import explode\n",
    "\n",
    "data = [(\"Ravi\", [\"Python\", \"Java\"]), (\"Priya\", [\"Scala\", \"Spark\"])]\n",
    "columns = [\"name\", \"skills\"]\n",
    "df = spark.createDataFrame(data, columns)\n",
    "\n",
    "df.select(\"name\", explode(\"skills\").alias(\"skill\")).show()\n"
   ]
  },
  {
   "cell_type": "code",
   "execution_count": 0,
   "metadata": {
    "application/vnd.databricks.v1+cell": {
     "cellMetadata": {
      "byteLimit": 2048000,
      "rowLimit": 10000
     },
     "inputWidgets": {},
     "nuid": "ac542f7b-fe95-41a9-88b2-ccfc75cfc188",
     "showTitle": false,
     "tableResultSettingsMap": {},
     "title": ""
    }
   },
   "outputs": [],
   "source": [
    "l1 = [1, 2, 3, 4, 5]\n",
    "l2 = ['a', 'b', 'c', 'd', 'e']\n",
    "l3 = {l1[i]: l2[i] for i in range(len(l1)-1)}\n",
    "\n",
    "l3[l2[-1]] = l1[-1]\n",
    "print(l3)\n"
   ]
  }
 ],
 "metadata": {
  "application/vnd.databricks.v1+notebook": {
   "computePreferences": null,
   "dashboards": [],
   "environmentMetadata": {
    "base_environment": "",
    "environment_version": "4"
   },
   "inputWidgetPreferences": null,
   "language": "python",
   "notebookMetadata": {
    "pythonIndentUnit": 4
   },
   "notebookName": "pyspark_interview_practice_d1",
   "widgets": {}
  },
  "language_info": {
   "name": "python"
  }
 },
 "nbformat": 4,
 "nbformat_minor": 0
}
