{
 "cells": [
  {
   "cell_type": "code",
   "execution_count": 0,
   "metadata": {
    "application/vnd.databricks.v1+cell": {
     "cellMetadata": {
      "byteLimit": 2048000,
      "rowLimit": 10000
     },
     "inputWidgets": {},
     "nuid": "38265860-3c36-4e97-ab7a-56e90e202676",
     "showTitle": false,
     "tableResultSettingsMap": {},
     "title": ""
    }
   },
   "outputs": [],
   "source": [
    "sfOptions = {\n",
    "    \"sfURL\": \"XEYPDBV-IQ30900.snowflakecomputing.com\",\n",
    "    \"sfUser\": \"ANJI\",\n",
    "    \"sfPassword\": \"Ayyappa@123456789\",\n",
    "    \"sfDatabase\": \"emp_db\",\n",
    "    \"sfSchema\": \"emp_sc\",\n",
    "    \"sfWarehouse\": \"COMPUTE_WH\"\n",
    "}\n",
    "\n",
    "df = spark.read.format(\"snowflake\").options(**sfOptions).option(\"dbtable\", \"emp\").load()\n",
    "\n",
    "df.show()\n",
    "df.count()"
   ]
  },
  {
   "cell_type": "code",
   "execution_count": 0,
   "metadata": {
    "application/vnd.databricks.v1+cell": {
     "cellMetadata": {
      "byteLimit": 2048000,
      "rowLimit": 10000
     },
     "inputWidgets": {},
     "nuid": "25fb118e-4cb5-4fd0-8479-9e48e5d526ae",
     "showTitle": false,
     "tableResultSettingsMap": {},
     "title": ""
    }
   },
   "outputs": [],
   "source": [
    "sfOptions = {\n",
    "    \"sfURL\": \"XEYPDBV-IQ30900.snowflakecomputing.com\",\n",
    "    \"sfUser\": \"ANJI\",\n",
    "    \"sfPassword\": \"Ayyappa@123456789\",\n",
    "    \"sfDatabase\": \"emp_db\",\n",
    "    \"sfSchema\": \"emp_sc\",\n",
    "    \"sfWarehouse\": \"COMPUTE_WH\"\n",
    "}\n",
    "\n",
    "df = spark.read.format(\"snowflake\").options(**sfOptions).option(\"dbtable\", \"dept\").load()\n",
    "\n",
    "df.show()\n",
    "df.count()"
   ]
  },
  {
   "cell_type": "code",
   "execution_count": 0,
   "metadata": {
    "application/vnd.databricks.v1+cell": {
     "cellMetadata": {
      "byteLimit": 2048000,
      "rowLimit": 10000
     },
     "inputWidgets": {},
     "nuid": "61e63a1a-92ed-4aec-80e8-f84ca312a8ff",
     "showTitle": false,
     "tableResultSettingsMap": {},
     "title": ""
    }
   },
   "outputs": [],
   "source": [
    "sfOptions = {\n",
    "    \"sfURL\": \"XEYPDBV-IQ30900.snowflakecomputing.com\",\n",
    "    \"sfUser\": \"ANJI\",\n",
    "    \"sfPassword\": \"Ayyappa@123456789\",\n",
    "    \"sfDatabase\": \"emp_db\",\n",
    "    \"sfSchema\": \"emp_sc\",\n",
    "    \"sfWarehouse\": \"COMPUTE_WH\"\n",
    "}\n",
    "\n",
    "df = spark.read.format(\"snowflake\").options(**sfOptions).option(\"dbtable\", \"location\").load()\n",
    "\n",
    "df.show()\n",
    "df.count()"
   ]
  }
 ],
 "metadata": {
  "application/vnd.databricks.v1+notebook": {
   "computePreferences": null,
   "dashboards": [],
   "environmentMetadata": {
    "base_environment": "",
    "environment_version": "4"
   },
   "inputWidgetPreferences": null,
   "language": "python",
   "notebookMetadata": {
    "pythonIndentUnit": 4
   },
   "notebookName": "snowflake_connection_details_d2",
   "widgets": {}
  },
  "language_info": {
   "name": "python"
  }
 },
 "nbformat": 4,
 "nbformat_minor": 0
}
