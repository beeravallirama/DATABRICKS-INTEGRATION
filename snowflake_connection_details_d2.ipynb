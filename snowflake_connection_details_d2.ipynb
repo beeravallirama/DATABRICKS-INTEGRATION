{
 "cells": [
  {
   "cell_type": "code",
   "execution_count": 0,
   "metadata": {
    "application/vnd.databricks.v1+cell": {
     "cellMetadata": {},
     "inputWidgets": {},
     "nuid": "d212ceb8-b5dc-43c7-be46-559365647c77",
     "showTitle": false,
     "tableResultSettingsMap": {},
     "title": ""
    }
   },
   "outputs": [],
   "source": [
    "sfOptions = {\n",
    "    \"sfURL\": \"XEYPDBV-IQ30900.snowflakecomputing.com\",\n",
    "    \"sfUser\": \"ANJI\",\n",
    "    \"sfPassword\": \"Ayyappa@123456789\",\n",
    "    \"sfDatabase\": \"emp_db\",\n",
    "    \"sfSchema\": \"emp_sc\",\n",
    "    \"sfWarehouse\": \"COMPUTE_WH\"\n",
    "}\n",
    "\n",
    "df = spark.read.format(\"snowflake\").options(**sfOptions).option(\"dbtable\", \"emp\").load()\n",
    "\n",
    "df.show()\n",
    "df.count()\n",
    "\n"
   ]
  }
 ],
 "metadata": {
  "application/vnd.databricks.v1+notebook": {
   "computePreferences": null,
   "dashboards": [],
   "environmentMetadata": {
    "base_environment": "",
    "environment_version": "4"
   },
   "inputWidgetPreferences": null,
   "language": "python",
   "notebookMetadata": {
    "pythonIndentUnit": 4
   },
   "notebookName": "snowflake_connection_details_d2",
   "widgets": {}
  },
  "language_info": {
   "name": "python"
  }
 },
 "nbformat": 4,
 "nbformat_minor": 0
}
